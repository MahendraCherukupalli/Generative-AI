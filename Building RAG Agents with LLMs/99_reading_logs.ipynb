{
 "cells": [
  {
   "cell_type": "markdown",
   "id": "38b61088-f6a8-409c-adbf-d36cd1339b6b",
   "metadata": {},
   "source": [
    "<center><a href=\"https://www.nvidia.com/en-us/training/\"><img src=\"https://dli-lms.s3.amazonaws.com/assets/general/DLI_Header_White.png\" width=\"400\" height=\"186\" /></a></center>\n",
    "<br>\n",
    "\n",
    "# <font color=\"#76b900\">**Notebook 99:** Reading Microservice Logs</font>"
   ]
  },
  {
   "cell_type": "markdown",
   "id": "38e05d95-8db7-45b3-b6eb-6396ce219b78",
   "metadata": {},
   "source": [
    "<br>\n",
    "\n",
    "**Below are some utility commands to help you investigate what's going on with your microservices:**"
   ]
  },
  {
   "cell_type": "code",
   "execution_count": null,
   "id": "def3976f-9295-4fbd-8758-1a7a913657fc",
   "metadata": {},
   "outputs": [],
   "source": [
    "import requests\n",
    "\n",
    "for entry in requests.get(\"http://docker_router:8070/containers\").json():\n",
    "    if entry.get(\"status\") == 'running':\n",
    "        print(entry.get(\"name\"))"
   ]
  },
  {
   "cell_type": "code",
   "execution_count": null,
   "id": "c111a7b7-4a54-402d-8c38-ff6f058c5afb",
   "metadata": {},
   "outputs": [],
   "source": [
    "service_name = \"frontend\"  ## Which microservice to look at\n",
    "from_idx = -4000           ## - to see truncated output\n",
    "# from_idx = 0             ## - to see full output\n",
    "print(requests.get(f\"http://docker_router:8070/containers/{service_name}/logs\").json()[\"logs\"][from_idx:])"
   ]
  }
 ],
 "metadata": {
  "kernelspec": {
   "display_name": "Python 3 (ipykernel)",
   "language": "python",
   "name": "python3"
  },
  "language_info": {
   "codemirror_mode": {
    "name": "ipython",
    "version": 3
   },
   "file_extension": ".py",
   "mimetype": "text/x-python",
   "name": "python",
   "nbconvert_exporter": "python",
   "pygments_lexer": "ipython3",
   "version": "3.11.9"
  }
 },
 "nbformat": 4,
 "nbformat_minor": 5
}
