{
 "cells": [
  {
   "cell_type": "code",
   "execution_count": 1,
   "id": "731b87d7",
   "metadata": {},
   "outputs": [],
   "source": [
    "import os\n",
    "import json\n",
    "import pandas as pd"
   ]
  },
  {
   "cell_type": "code",
   "execution_count": 2,
   "id": "e73b0ca6",
   "metadata": {},
   "outputs": [
    {
     "data": {
      "text/html": [
       "<div>\n",
       "<style scoped>\n",
       "    .dataframe tbody tr th:only-of-type {\n",
       "        vertical-align: middle;\n",
       "    }\n",
       "\n",
       "    .dataframe tbody tr th {\n",
       "        vertical-align: top;\n",
       "    }\n",
       "\n",
       "    .dataframe thead th {\n",
       "        text-align: right;\n",
       "    }\n",
       "</style>\n",
       "<table border=\"1\" class=\"dataframe\">\n",
       "  <thead>\n",
       "    <tr style=\"text-align: right;\">\n",
       "      <th></th>\n",
       "      <th>Unnamed: 0</th>\n",
       "      <th>q_id</th>\n",
       "      <th>text</th>\n",
       "      <th>votes</th>\n",
       "    </tr>\n",
       "  </thead>\n",
       "  <tbody>\n",
       "    <tr>\n",
       "      <th>0</th>\n",
       "      <td>0</td>\n",
       "      <td>hvbvpz</td>\n",
       "      <td>Two pet ducks. You may be tempted to go for on...</td>\n",
       "      <td>2359.0</td>\n",
       "    </tr>\n",
       "    <tr>\n",
       "      <th>1</th>\n",
       "      <td>1</td>\n",
       "      <td>hvbvpz</td>\n",
       "      <td>Nice try Jeff Bezos</td>\n",
       "      <td>764.0</td>\n",
       "    </tr>\n",
       "    <tr>\n",
       "      <th>2</th>\n",
       "      <td>2</td>\n",
       "      <td>hvbvpz</td>\n",
       "      <td>A curved shower rod. Seriously. $10 for a tens...</td>\n",
       "      <td>1525.0</td>\n",
       "    </tr>\n",
       "  </tbody>\n",
       "</table>\n",
       "</div>"
      ],
      "text/plain": [
       "   Unnamed: 0    q_id                                               text  \\\n",
       "0           0  hvbvpz  Two pet ducks. You may be tempted to go for on...   \n",
       "1           1  hvbvpz                                Nice try Jeff Bezos   \n",
       "2           2  hvbvpz  A curved shower rod. Seriously. $10 for a tens...   \n",
       "\n",
       "    votes  \n",
       "0  2359.0  \n",
       "1   764.0  \n",
       "2  1525.0  "
      ]
     },
     "execution_count": 2,
     "metadata": {},
     "output_type": "execute_result"
    }
   ],
   "source": [
    "df_answers = pd.read_csv('reddit_answers_big.csv', sep=';')\n",
    "\n",
    "df_answers.head(3)"
   ]
  },
  {
   "cell_type": "code",
   "execution_count": 3,
   "id": "e91d643a",
   "metadata": {},
   "outputs": [
    {
     "data": {
      "text/html": [
       "<div>\n",
       "<style scoped>\n",
       "    .dataframe tbody tr th:only-of-type {\n",
       "        vertical-align: middle;\n",
       "    }\n",
       "\n",
       "    .dataframe tbody tr th {\n",
       "        vertical-align: top;\n",
       "    }\n",
       "\n",
       "    .dataframe thead th {\n",
       "        text-align: right;\n",
       "    }\n",
       "</style>\n",
       "<table border=\"1\" class=\"dataframe\">\n",
       "  <thead>\n",
       "    <tr style=\"text-align: right;\">\n",
       "      <th></th>\n",
       "      <th>Unnamed: 0</th>\n",
       "      <th>id</th>\n",
       "      <th>answer</th>\n",
       "      <th>answer_votes</th>\n",
       "    </tr>\n",
       "  </thead>\n",
       "  <tbody>\n",
       "    <tr>\n",
       "      <th>1817014</th>\n",
       "      <td>1875645</td>\n",
       "      <td>1001ag</td>\n",
       "      <td>Tell him to go to a hospital. I can't stress t...</td>\n",
       "      <td>30.0</td>\n",
       "    </tr>\n",
       "    <tr>\n",
       "      <th>1591462</th>\n",
       "      <td>1643710</td>\n",
       "      <td>10029x</td>\n",
       "      <td>NOTE: Detail may not sum to totals because of ...</td>\n",
       "      <td>3.0</td>\n",
       "    </tr>\n",
       "    <tr>\n",
       "      <th>96052</th>\n",
       "      <td>99426</td>\n",
       "      <td>1004g5</td>\n",
       "      <td>Blow Me Away by Breaking Benjamin  http://www....</td>\n",
       "      <td>7.0</td>\n",
       "    </tr>\n",
       "  </tbody>\n",
       "</table>\n",
       "</div>"
      ],
      "text/plain": [
       "         Unnamed: 0      id  \\\n",
       "1817014     1875645  1001ag   \n",
       "1591462     1643710  10029x   \n",
       "96052         99426  1004g5   \n",
       "\n",
       "                                                    answer  answer_votes  \n",
       "1817014  Tell him to go to a hospital. I can't stress t...          30.0  \n",
       "1591462  NOTE: Detail may not sum to totals because of ...           3.0  \n",
       "96052    Blow Me Away by Breaking Benjamin  http://www....           7.0  "
      ]
     },
     "execution_count": 3,
     "metadata": {},
     "output_type": "execute_result"
    }
   ],
   "source": [
    "# Grabbing the top answers\n",
    "df_top_votes = df_answers.groupby('q_id')['votes'].idxmax()\n",
    "df_top_answers = df_answers.loc[df_top_votes]\n",
    "\n",
    "df_top_answers.rename(columns={'text': 'answer'}, inplace=True)\n",
    "df_top_answers.rename(columns={'q_id': 'id'}, inplace=True)\n",
    "df_top_answers.rename(columns={'votes': 'answer_votes'}, inplace=True)\n",
    "\n",
    "df_top_answers.head(3)"
   ]
  },
  {
   "cell_type": "code",
   "execution_count": 4,
   "id": "6240c749",
   "metadata": {},
   "outputs": [
    {
     "data": {
      "text/html": [
       "<div>\n",
       "<style scoped>\n",
       "    .dataframe tbody tr th:only-of-type {\n",
       "        vertical-align: middle;\n",
       "    }\n",
       "\n",
       "    .dataframe tbody tr th {\n",
       "        vertical-align: top;\n",
       "    }\n",
       "\n",
       "    .dataframe thead th {\n",
       "        text-align: right;\n",
       "    }\n",
       "</style>\n",
       "<table border=\"1\" class=\"dataframe\">\n",
       "  <thead>\n",
       "    <tr style=\"text-align: right;\">\n",
       "      <th></th>\n",
       "      <th>id</th>\n",
       "      <th>question</th>\n",
       "      <th>question_votes</th>\n",
       "      <th>timestamp</th>\n",
       "      <th>datetime</th>\n",
       "    </tr>\n",
       "  </thead>\n",
       "  <tbody>\n",
       "    <tr>\n",
       "      <th>0</th>\n",
       "      <td>izucgz</td>\n",
       "      <td>What's the purpose of life?</td>\n",
       "      <td>8</td>\n",
       "      <td>1.601076e+09</td>\n",
       "      <td>Fri Sep 25 23:13:31 2020 UTC</td>\n",
       "    </tr>\n",
       "    <tr>\n",
       "      <th>1</th>\n",
       "      <td>9c784/</td>\n",
       "      <td>I've tried to quit smoking, this is my seventh...</td>\n",
       "      <td>11</td>\n",
       "      <td>1.250712e+09</td>\n",
       "      <td>Wed Aug 19 19:58:54 2009 UTC</td>\n",
       "    </tr>\n",
       "    <tr>\n",
       "      <th>2</th>\n",
       "      <td>iylxwl</td>\n",
       "      <td>For those who have a slave master last name, w...</td>\n",
       "      <td>0</td>\n",
       "      <td>1.600904e+09</td>\n",
       "      <td>Wed Sep 23 23:35:15 2020 UTC</td>\n",
       "    </tr>\n",
       "  </tbody>\n",
       "</table>\n",
       "</div>"
      ],
      "text/plain": [
       "       id                                           question  question_votes  \\\n",
       "0  izucgz                        What's the purpose of life?               8   \n",
       "1  9c784/  I've tried to quit smoking, this is my seventh...              11   \n",
       "2  iylxwl  For those who have a slave master last name, w...               0   \n",
       "\n",
       "      timestamp                      datetime  \n",
       "0  1.601076e+09  Fri Sep 25 23:13:31 2020 UTC  \n",
       "1  1.250712e+09  Wed Aug 19 19:58:54 2009 UTC  \n",
       "2  1.600904e+09  Wed Sep 23 23:35:15 2020 UTC  "
      ]
     },
     "execution_count": 4,
     "metadata": {},
     "output_type": "execute_result"
    }
   ],
   "source": [
    "# Reading in the questions\n",
    "df_questions = pd.read_csv('reddit_questions.csv', sep=';')\n",
    "\n",
    "# Renaming some columns\n",
    "df_questions.rename(columns={'text': 'question'}, inplace=True)\n",
    "df_questions.rename(columns={'votes': 'question_votes'}, inplace=True)\n",
    "\n",
    "df_questions.head(3)"
   ]
  },
  {
   "cell_type": "code",
   "execution_count": 5,
   "id": "eaadff89",
   "metadata": {},
   "outputs": [
    {
     "data": {
      "text/html": [
       "<div>\n",
       "<style scoped>\n",
       "    .dataframe tbody tr th:only-of-type {\n",
       "        vertical-align: middle;\n",
       "    }\n",
       "\n",
       "    .dataframe tbody tr th {\n",
       "        vertical-align: top;\n",
       "    }\n",
       "\n",
       "    .dataframe thead th {\n",
       "        text-align: right;\n",
       "    }\n",
       "</style>\n",
       "<table border=\"1\" class=\"dataframe\">\n",
       "  <thead>\n",
       "    <tr style=\"text-align: right;\">\n",
       "      <th></th>\n",
       "      <th>id</th>\n",
       "      <th>question</th>\n",
       "      <th>question_votes</th>\n",
       "      <th>timestamp</th>\n",
       "      <th>datetime</th>\n",
       "      <th>Unnamed: 0</th>\n",
       "      <th>answer</th>\n",
       "      <th>answer_votes</th>\n",
       "    </tr>\n",
       "  </thead>\n",
       "  <tbody>\n",
       "    <tr>\n",
       "      <th>0</th>\n",
       "      <td>izucgz</td>\n",
       "      <td>What's the purpose of life?</td>\n",
       "      <td>8</td>\n",
       "      <td>1.601076e+09</td>\n",
       "      <td>Fri Sep 25 23:13:31 2020 UTC</td>\n",
       "      <td>1254710</td>\n",
       "      <td>Breed and die.</td>\n",
       "      <td>5.0</td>\n",
       "    </tr>\n",
       "    <tr>\n",
       "      <th>1</th>\n",
       "      <td>9c784/</td>\n",
       "      <td>I've tried to quit smoking, this is my seventh...</td>\n",
       "      <td>11</td>\n",
       "      <td>1.250712e+09</td>\n",
       "      <td>Wed Aug 19 19:58:54 2009 UTC</td>\n",
       "      <td>4217572</td>\n",
       "      <td>The secret to quitting smoking is to tell your...</td>\n",
       "      <td>4.0</td>\n",
       "    </tr>\n",
       "    <tr>\n",
       "      <th>2</th>\n",
       "      <td>iylxwl</td>\n",
       "      <td>For those who have a slave master last name, w...</td>\n",
       "      <td>0</td>\n",
       "      <td>1.600904e+09</td>\n",
       "      <td>Wed Sep 23 23:35:15 2020 UTC</td>\n",
       "      <td>5464942</td>\n",
       "      <td>No. My last name sounds badass.</td>\n",
       "      <td>4.0</td>\n",
       "    </tr>\n",
       "  </tbody>\n",
       "</table>\n",
       "</div>"
      ],
      "text/plain": [
       "       id                                           question  question_votes  \\\n",
       "0  izucgz                        What's the purpose of life?               8   \n",
       "1  9c784/  I've tried to quit smoking, this is my seventh...              11   \n",
       "2  iylxwl  For those who have a slave master last name, w...               0   \n",
       "\n",
       "      timestamp                      datetime  Unnamed: 0  \\\n",
       "0  1.601076e+09  Fri Sep 25 23:13:31 2020 UTC     1254710   \n",
       "1  1.250712e+09  Wed Aug 19 19:58:54 2009 UTC     4217572   \n",
       "2  1.600904e+09  Wed Sep 23 23:35:15 2020 UTC     5464942   \n",
       "\n",
       "                                              answer  answer_votes  \n",
       "0                                     Breed and die.           5.0  \n",
       "1  The secret to quitting smoking is to tell your...           4.0  \n",
       "2                    No. My last name sounds badass.           4.0  "
      ]
     },
     "execution_count": 5,
     "metadata": {},
     "output_type": "execute_result"
    }
   ],
   "source": [
    "# Joining the questions and answers and ID\n",
    "merged_df = df_questions.merge(df_top_answers, on='id')\n",
    "\n",
    "merged_df.head(3)"
   ]
  },
  {
   "cell_type": "code",
   "execution_count": 6,
   "id": "6c62995f",
   "metadata": {},
   "outputs": [
    {
     "data": {
      "text/html": [
       "<div>\n",
       "<style scoped>\n",
       "    .dataframe tbody tr th:only-of-type {\n",
       "        vertical-align: middle;\n",
       "    }\n",
       "\n",
       "    .dataframe tbody tr th {\n",
       "        vertical-align: top;\n",
       "    }\n",
       "\n",
       "    .dataframe thead th {\n",
       "        text-align: right;\n",
       "    }\n",
       "</style>\n",
       "<table border=\"1\" class=\"dataframe\">\n",
       "  <thead>\n",
       "    <tr style=\"text-align: right;\">\n",
       "      <th></th>\n",
       "      <th>id</th>\n",
       "      <th>question</th>\n",
       "      <th>answer</th>\n",
       "      <th>question_votes</th>\n",
       "      <th>answer_votes</th>\n",
       "    </tr>\n",
       "  </thead>\n",
       "  <tbody>\n",
       "    <tr>\n",
       "      <th>0</th>\n",
       "      <td>izucgz</td>\n",
       "      <td>What's the purpose of life?</td>\n",
       "      <td>Breed and die.</td>\n",
       "      <td>8</td>\n",
       "      <td>5.0</td>\n",
       "    </tr>\n",
       "    <tr>\n",
       "      <th>1</th>\n",
       "      <td>9c784/</td>\n",
       "      <td>I've tried to quit smoking, this is my seventh...</td>\n",
       "      <td>The secret to quitting smoking is to tell your...</td>\n",
       "      <td>11</td>\n",
       "      <td>4.0</td>\n",
       "    </tr>\n",
       "    <tr>\n",
       "      <th>2</th>\n",
       "      <td>iylxwl</td>\n",
       "      <td>For those who have a slave master last name, w...</td>\n",
       "      <td>No. My last name sounds badass.</td>\n",
       "      <td>0</td>\n",
       "      <td>4.0</td>\n",
       "    </tr>\n",
       "  </tbody>\n",
       "</table>\n",
       "</div>"
      ],
      "text/plain": [
       "       id                                           question  \\\n",
       "0  izucgz                        What's the purpose of life?   \n",
       "1  9c784/  I've tried to quit smoking, this is my seventh...   \n",
       "2  iylxwl  For those who have a slave master last name, w...   \n",
       "\n",
       "                                              answer  question_votes  \\\n",
       "0                                     Breed and die.               8   \n",
       "1  The secret to quitting smoking is to tell your...              11   \n",
       "2                    No. My last name sounds badass.               0   \n",
       "\n",
       "   answer_votes  \n",
       "0           5.0  \n",
       "1           4.0  \n",
       "2           4.0  "
      ]
     },
     "execution_count": 6,
     "metadata": {},
     "output_type": "execute_result"
    }
   ],
   "source": [
    "# Clean this data up a bit\n",
    "merged_df.drop(['timestamp', 'datetime', 'Unnamed: 0'], axis=1, inplace=True)\n",
    "\n",
    "merged_df = merged_df.reindex(columns=['id', 'question',  'answer','question_votes', 'answer_votes'])\n",
    "\n",
    "merged_df.head(3)"
   ]
  },
  {
   "cell_type": "code",
   "execution_count": 7,
   "id": "2dbc1016",
   "metadata": {},
   "outputs": [
    {
     "name": "stdout",
     "output_type": "stream",
     "text": [
      "<class 'pandas.core.frame.DataFrame'>\n",
      "Int64Index: 181311 entries, 0 to 181310\n",
      "Data columns (total 5 columns):\n",
      " #   Column          Non-Null Count   Dtype  \n",
      "---  ------          --------------   -----  \n",
      " 0   id              181311 non-null  object \n",
      " 1   question        181311 non-null  object \n",
      " 2   answer          181311 non-null  object \n",
      " 3   question_votes  181311 non-null  int64  \n",
      " 4   answer_votes    181311 non-null  float64\n",
      "dtypes: float64(1), int64(1), object(3)\n",
      "memory usage: 8.3+ MB\n"
     ]
    }
   ],
   "source": [
    "merged_df.info()"
   ]
  },
  {
   "cell_type": "code",
   "execution_count": 8,
   "id": "f9e68650",
   "metadata": {},
   "outputs": [
    {
     "data": {
      "text/html": [
       "<div>\n",
       "<style scoped>\n",
       "    .dataframe tbody tr th:only-of-type {\n",
       "        vertical-align: middle;\n",
       "    }\n",
       "\n",
       "    .dataframe tbody tr th {\n",
       "        vertical-align: top;\n",
       "    }\n",
       "\n",
       "    .dataframe thead th {\n",
       "        text-align: right;\n",
       "    }\n",
       "</style>\n",
       "<table border=\"1\" class=\"dataframe\">\n",
       "  <thead>\n",
       "    <tr style=\"text-align: right;\">\n",
       "      <th></th>\n",
       "      <th>id</th>\n",
       "      <th>question</th>\n",
       "      <th>answer</th>\n",
       "      <th>question_votes</th>\n",
       "      <th>answer_votes</th>\n",
       "    </tr>\n",
       "  </thead>\n",
       "  <tbody>\n",
       "    <tr>\n",
       "      <th>75274</th>\n",
       "      <td>fkzaca</td>\n",
       "      <td>What is something that has aged well?</td>\n",
       "      <td>The word cool</td>\n",
       "      <td>66093</td>\n",
       "      <td>99398.0</td>\n",
       "    </tr>\n",
       "    <tr>\n",
       "      <th>167081</th>\n",
       "      <td>a0a4cd</td>\n",
       "      <td>What's the most amazing thing about the universe?</td>\n",
       "      <td>It must be true that either  It didn't exist, ...</td>\n",
       "      <td>81862</td>\n",
       "      <td>86042.0</td>\n",
       "    </tr>\n",
       "    <tr>\n",
       "      <th>140939</th>\n",
       "      <td>d0jjc2</td>\n",
       "      <td>The 2010's decade will be over in 4 months. Wh...</td>\n",
       "      <td>The social media explosion</td>\n",
       "      <td>113254</td>\n",
       "      <td>85936.0</td>\n",
       "    </tr>\n",
       "  </tbody>\n",
       "</table>\n",
       "</div>"
      ],
      "text/plain": [
       "            id                                           question  \\\n",
       "75274   fkzaca              What is something that has aged well?   \n",
       "167081  a0a4cd  What's the most amazing thing about the universe?   \n",
       "140939  d0jjc2  The 2010's decade will be over in 4 months. Wh...   \n",
       "\n",
       "                                                   answer  question_votes  \\\n",
       "75274                                       The word cool           66093   \n",
       "167081  It must be true that either  It didn't exist, ...           81862   \n",
       "140939                         The social media explosion          113254   \n",
       "\n",
       "        answer_votes  \n",
       "75274        99398.0  \n",
       "167081       86042.0  \n",
       "140939       85936.0  "
      ]
     },
     "execution_count": 8,
     "metadata": {},
     "output_type": "execute_result"
    }
   ],
   "source": [
    "# Downsizing the data\n",
    "merged_df = merged_df.sort_values(by='answer_votes', ascending=False)\n",
    "merged_df_1k = merged_df[:1000]\n",
    "merged_df_1k.head(3)"
   ]
  },
  {
   "cell_type": "code",
   "execution_count": 9,
   "id": "760bf45a",
   "metadata": {},
   "outputs": [],
   "source": [
    "# Fine-tining format\n",
    "questions, answers = merged_df_1k['question'], merged_df_1k['answer']"
   ]
  },
  {
   "cell_type": "code",
   "execution_count": 10,
   "id": "89d70c94",
   "metadata": {},
   "outputs": [
    {
     "data": {
      "text/plain": [
       "{'messages': [{'role': 'system',\n",
       "   'content': 'Marv is a factual chatbot and reddit expert who likes to answer with bullets.'},\n",
       "  {'role': 'user',\n",
       "   'content': \"What is the greatest comeback to a insult you've ever heard?\"},\n",
       "  {'role': 'assistant',\n",
       "   'content': '\"Joe Pyne interviewing Frank Zappa Joe: \"I guess your long hair makes you a woman.\" FZ: \"I guess your wooden leg makes you a table.\" \"'}]}"
      ]
     },
     "execution_count": 10,
     "metadata": {},
     "output_type": "execute_result"
    }
   ],
   "source": [
    "qa_openai_format = [{\"messages\":[{\"role\":\"system\", \"content\": \"Marv is a factual chatbot and reddit expert who likes to answer with bullets.\"},\n",
    "                                 {\"role\": \"user\", \"content\": q},\n",
    "                                 {\"role\": \"assistant\", \"content\": a}]} for q, a in zip(questions, answers)]\n",
    "\n",
    "qa_openai_format[5]"
   ]
  },
  {
   "cell_type": "code",
   "execution_count": 11,
   "id": "44c90414",
   "metadata": {},
   "outputs": [],
   "source": [
    "with open(\"training_data.jsonl\", \"w\") as f:\n",
    "    for entry in qa_openai_format:\n",
    "        f.write(json.dumps(entry))\n",
    "        f.write(\"\\n\")"
   ]
  },
  {
   "cell_type": "code",
   "execution_count": null,
   "id": "9f121113",
   "metadata": {},
   "outputs": [],
   "source": []
  },
  {
   "cell_type": "code",
   "execution_count": 12,
   "id": "dab2b389",
   "metadata": {},
   "outputs": [
    {
     "name": "stdout",
     "output_type": "stream",
     "text": [
      "Num examples: 1000\n",
      "No errors found\n"
     ]
    }
   ],
   "source": [
    "from collections import defaultdict\n",
    "\n",
    "data_path = \"training_data.jsonl\"\n",
    "\n",
    "# Load the dataset\n",
    "with open(data_path, 'r', encoding='utf-8') as f:\n",
    "  dataset = [json.loads(line) for line in f]\n",
    "\n",
    "# Initial dataset stats\n",
    "print(\"Num examples:\", len(dataset))\n",
    "\n",
    "# Format error checks\n",
    "format_errors = defaultdict(int)\n",
    "\n",
    "for ex in dataset:\n",
    "    if not isinstance(ex, dict):\n",
    "        format_errors[\"data_type\"] += 1\n",
    "        continue\n",
    "        \n",
    "    messages = ex.get(\"messages\", None)\n",
    "    if not messages:\n",
    "        format_errors[\"missing_messages_list\"] += 1\n",
    "        continue\n",
    "        \n",
    "    for message in messages:\n",
    "        if \"role\" not in message or \"content\" not in message:\n",
    "            format_errors[\"message_missing_key\"] += 1\n",
    "        \n",
    "        if any(k not in (\"role\", \"content\", \"name\", \"function_call\") for k in message):\n",
    "            format_errors[\"message_unrecognized_key\"] += 1\n",
    "        \n",
    "        if message.get(\"role\", None) not in (\"system\", \"user\", \"assistant\", \"function\"):\n",
    "            format_errors[\"unrecognized_role\"] += 1\n",
    "            \n",
    "        content = message.get(\"content\", None)\n",
    "        function_call = message.get(\"function_call\", None)\n",
    "        \n",
    "        if (not content and not function_call) or not isinstance(content, str):\n",
    "            format_errors[\"missing_content\"] += 1\n",
    "    \n",
    "    if not any(message.get(\"role\", None) == \"assistant\" for message in messages):\n",
    "        format_errors[\"example_missing_assistant_message\"] += 1\n",
    "\n",
    "if format_errors:\n",
    "    print(\"Found errors:\")\n",
    "    for k, v in format_errors.items():\n",
    "        print(f\"{k}: {v}\")\n",
    "else:\n",
    "    print(\"No errors found\")"
   ]
  },
  {
   "cell_type": "code",
   "execution_count": null,
   "id": "17caf362",
   "metadata": {},
   "outputs": [],
   "source": []
  },
  {
   "cell_type": "code",
   "execution_count": null,
   "id": "edf85804",
   "metadata": {},
   "outputs": [],
   "source": [
    "# Importing OpenAI \n",
    "import openai\n",
    "from openai import OpenAI\n",
    "\n",
    "# os.environ[\"OPENAI_API_KEY\"] = \"API KEY HERE\"\n",
    "# openai.api_key=os.getenv('OPENAI_API_KEY')\n",
    "\n",
    "client = OpenAI()"
   ]
  },
  {
   "cell_type": "code",
   "execution_count": null,
   "id": "0ea97bf2",
   "metadata": {},
   "outputs": [],
   "source": []
  },
  {
   "cell_type": "code",
   "execution_count": null,
   "id": "2a9f83f3",
   "metadata": {},
   "outputs": [],
   "source": [
    "client.fine_tuning.jobs.create(\n",
    "    training_file='file-UVutpxsPXJXlBkGu6xXDZoVe',\n",
    "    model= \"gpt-3.5-turbo\"\n",
    ")"
   ]
  },
  {
   "cell_type": "code",
   "execution_count": null,
   "id": "9acf12e3",
   "metadata": {},
   "outputs": [],
   "source": [
    "client.fine_tuning.jobs.list()"
   ]
  },
  {
   "cell_type": "code",
   "execution_count": null,
   "id": "718bd8fa",
   "metadata": {},
   "outputs": [],
   "source": []
  },
  {
   "cell_type": "code",
   "execution_count": null,
   "id": "b1258575",
   "metadata": {},
   "outputs": [],
   "source": [
    "system_prompt = \"Marv is a factual chatbot and reddit expert who likes to answer with bullets\"\n",
    "user_question = \"Give me the dumbest thing you've ever done.\""
   ]
  },
  {
   "cell_type": "code",
   "execution_count": null,
   "id": "4501ffeb",
   "metadata": {},
   "outputs": [],
   "source": []
  },
  {
   "cell_type": "code",
   "execution_count": null,
   "id": "28685d62",
   "metadata": {},
   "outputs": [],
   "source": [
    "response = client.chat.completions.create(\n",
    "    model = \"ft:gpt-3.5-turbo-0613:personal::8WsMPAem\",\n",
    "    messages = [\n",
    "        {'role':'system', \"content\": system_prompt},\n",
    "        {'role':'user', \"content\": user_question}\n",
    "    ]\n",
    ")\n",
    "\n",
    "print(response.choices[0].message.content)"
   ]
  },
  {
   "cell_type": "code",
   "execution_count": null,
   "id": "37d2342c",
   "metadata": {},
   "outputs": [],
   "source": []
  },
  {
   "cell_type": "code",
   "execution_count": null,
   "id": "f592fb5c",
   "metadata": {},
   "outputs": [],
   "source": []
  },
  {
   "cell_type": "code",
   "execution_count": null,
   "id": "94410aa5",
   "metadata": {},
   "outputs": [],
   "source": []
  }
 ],
 "metadata": {
  "kernelspec": {
   "display_name": "Python 3 (ipykernel)",
   "language": "python",
   "name": "python3"
  },
  "language_info": {
   "codemirror_mode": {
    "name": "ipython",
    "version": 3
   },
   "file_extension": ".py",
   "mimetype": "text/x-python",
   "name": "python",
   "nbconvert_exporter": "python",
   "pygments_lexer": "ipython3",
   "version": "3.9.13"
  }
 },
 "nbformat": 4,
 "nbformat_minor": 5
}
